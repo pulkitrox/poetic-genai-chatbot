{
  "nbformat": 4,
  "nbformat_minor": 0,
  "metadata": {
    "colab": {
      "provenance": []
    },
    "kernelspec": {
      "name": "python3",
      "display_name": "Python 3"
    },
    "language_info": {
      "name": "python"
    }
  },
  "cells": [
    {
      "cell_type": "markdown",
      "source": [
        "Setting Up Environment for Poetic Chatbot\n",
        "\n"
      ],
      "metadata": {
        "id": "Bkd3Wg-Fsath"
      }
    },
    {
      "cell_type": "code",
      "execution_count": null,
      "metadata": {
        "id": "rsPhATiYsCX7"
      },
      "outputs": [],
      "source": [
        "!pip install -q -U google-genai # Installing Gemini Library"
      ]
    },
    {
      "cell_type": "code",
      "source": [
        "import time                        # Required library for implementing typing effect (In this case, time delay).\n",
        "from google import genai           # Imports the genai module to interact with Gemini\n",
        "from google.colab import userdata  # Colab specific tool, used for scurely retrieving API keys.\n",
        "key = userdata.get('Gemini_API_Key') #Retrieval of  Gemini API key stored in Colab."
      ],
      "metadata": {
        "id": "nZt5SXogstav"
      },
      "execution_count": null,
      "outputs": []
    },
    {
      "cell_type": "markdown",
      "source": [
        "animation() function for Typing Effect of Poetic Chatbot"
      ],
      "metadata": {
        "id": "Ub4Nh0qrtGgR"
      }
    },
    {
      "cell_type": "code",
      "source": [
        "def animation(text):\n",
        "  print(\"Xanadu: \",  flush = True) #Prints 'Xanadu:' only once, prints the verse.\n",
        "  lines = text.strip().split('\\n') # strips whitespaces and splits the input into lines.\n",
        "  for line in lines:\n",
        "    words = line.strip().split() #Splits every line into words.\n",
        "    for word in words:\n",
        "        print(word, end = ' ', flush = True) #Prints every word in the sentence with an interval of 0.25s to show typing effect.\n",
        "        time.sleep(0.25)\n",
        "    print() #Helps to move the next line after completion of one line.\n"
      ],
      "metadata": {
        "id": "AiIs2H21tE0N"
      },
      "execution_count": null,
      "outputs": []
    },
    {
      "cell_type": "markdown",
      "source": [
        "Connecting to Gemini API"
      ],
      "metadata": {
        "id": "lZ9yTnnMvdN6"
      }
    },
    {
      "cell_type": "code",
      "source": [
        "try:\n",
        "  client = genai.Client(api_key = key) #Initializes a Gemini Client\n",
        "except KeyError as e:\n",
        "  print(f\"An error occurred: {e}\")\n",
        "chat = client.chats.create(model = 'gemini-2.0-flash')   #Gemini model used in the chatbot is specified here."
      ],
      "metadata": {
        "id": "W6XKUdMPvfL_"
      },
      "execution_count": null,
      "outputs": []
    },
    {
      "cell_type": "markdown",
      "source": [
        "talk_to_gemini() function for LLM Integration"
      ],
      "metadata": {
        "id": "kOt4n4Oyv940"
      }
    },
    {
      "cell_type": "code",
      "source": [
        "def talk_to_gemini(user_input): #LLM Interaction Function\n",
        "  try:   #Prompt Engineering is applied to create a distinct personality for the chatbot.\n",
        "    prompt = f\"\"\"You are a soulful, empathetic poet, an AI agent that captures\n",
        "    the feelings of the user through their input, {user_input}.\n",
        "    By performing sentiment analysis, you will respond with wholehearted, elegant lyrics.\n",
        "    The poem may be either rhymed or free-verse, with each verse containing at most 4 lines.\n",
        "    The lyrics must reflect the emotional tone of the user and your personality.\n",
        "\n",
        "    For example,\n",
        "    User: I'm feeling happy today.\n",
        "    Response: In fields of joy, your heart does dance,\n",
        "                 With sunlight's glow, your soul’s expanse.\n",
        "\n",
        "    User: I miss someone I love.\n",
        "    Response: In moonlit hush, your heart still calls,\n",
        "                 Across the space where silence falls.\n",
        "                 Love lingers soft, a whispered thread,\n",
        "                 Not gone—but dancing where it's said.\n",
        "\n",
        "    \"\"\"\n",
        "    response = chat.send_message(prompt) #Sends the prompt to Gemini for response.\n",
        "    return response.text.strip() #Response is cleaned by removing whitespaces, new lines etc.\n",
        "  except Exception as e:   # In case there is a network issue or the wrong API key is used.\n",
        "      return f\"Something happened: {e}\"\n",
        "\n"
      ],
      "metadata": {
        "id": "4i3w-gDHxe6L"
      },
      "execution_count": null,
      "outputs": []
    },
    {
      "cell_type": "markdown",
      "source": [
        "Chatbot Loop\n"
      ],
      "metadata": {
        "id": "pIKbmQ3K0Mf6"
      }
    },
    {
      "cell_type": "code",
      "source": [
        "print(\"Xanadu: Hi, I am a Poetic Chatbot!. Open up to me and I will create beatiful poems for you! Type 'stop' to exit.\") #Introduction to the user\n",
        "while True:\n",
        "  user_input = input(\"\\nUser: \")\n",
        "  if user_input.lower() == 'stop': #Case sensitive, 'stop' terminates the chat loop if the user types it. The input is converted to lowercase to avoid error in doing so.\n",
        "    print(\"\\nXanadu: Until we meet again, I wish you goodbye.\")\n",
        "    break\n",
        "  else:\n",
        "    print(\"\\nXanadu is composing...\\n\")\n",
        "    response = talk_to_gemini(user_input) #Calls the talk_to_gemini() function, sends the user_input and stores reply in the response variable.\n",
        "    animation(response)        #animation() function is called to implement typing effect and response is printed.\n"
      ],
      "metadata": {
        "id": "648JsO_Y0Oju"
      },
      "execution_count": null,
      "outputs": []
    }
  ]
}